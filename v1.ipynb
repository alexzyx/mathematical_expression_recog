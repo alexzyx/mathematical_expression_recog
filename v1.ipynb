{
 "cells": [
  {
   "cell_type": "markdown",
   "metadata": {},
   "source": [
    "# 算式识别开题报告"
   ]
  },
  {
   "cell_type": "markdown",
   "metadata": {},
   "source": [
    "## 项目概览"
   ]
  },
  {
   "cell_type": "markdown",
   "metadata": {},
   "source": [
    "### 项目背景"
   ]
  },
  {
   "cell_type": "markdown",
   "metadata": {},
   "source": [
    "学生简要的描述了毕业项目的背景（历史）信息。明确的陈述了为什么这个问题应该并且能够得到解决。引用到的学术研究都应该注明出处。建议学生谈一下选择这个领域中该特定问题的原因（可选）。"
   ]
  },
  {
   "cell_type": "markdown",
   "metadata": {},
   "source": [
    "计算机视觉任务，属于文字OCR识别，长度不固定，属于序列识别。\n",
    "\n",
    "目前取得的进展。todo\n",
    "\n",
    "对计算机视觉有兴趣，并且身边有这样的需求，想进一步了解OCR的相关技术。"
   ]
  },
  {
   "cell_type": "markdown",
   "metadata": {},
   "source": [
    "### 问题描述"
   ]
  },
  {
   "cell_type": "markdown",
   "metadata": {},
   "source": [
    "学生清晰的描述了需要解决的问题。问题被明确的定义出来并且至少有一个可能的解决办法。此外，还要求这个问题可以被量化，被衡量以及可重现的。"
   ]
  },
  {
   "cell_type": "markdown",
   "metadata": {},
   "source": [
    "给出一张算式的图片，识别出图片中的文本内容。"
   ]
  },
  {
   "cell_type": "markdown",
   "metadata": {},
   "source": [
    "### 数据或输入"
   ]
  },
  {
   "cell_type": "markdown",
   "metadata": {},
   "source": [
    "对项目中用到的数据集或输入有详尽的描述。包括如何获取这些数据集或者输入，他们有何特点。 还应当说明数据集或输入在项目中如何使用，用法对解决这个特定问题是否得当。"
   ]
  },
  {
   "cell_type": "markdown",
   "metadata": {},
   "source": [
    "数据集中的图片分辨率为300*64，算式由3个数字、2个运算符、等号、运算结果组成，运算结果位数不定，运算中还有括号，因此文本长度不是固定的。\n",
    "\n",
    "其他数据集使用，todo。"
   ]
  },
  {
   "cell_type": "code",
   "execution_count": 1,
   "metadata": {},
   "outputs": [],
   "source": [
    "import pandas as pd\n",
    "from sklearn.model_selection import train_test_split\n",
    "import matplotlib.pyplot as plt\n",
    "%matplotlib inline\n",
    "import numpy as np\n",
    "data_csv = pd.read_csv('G:/my_code/python/mathematical_expression_recognition/Mathematical_Expression_Recognition_train/train.csv')\n",
    "img_dirpath = data_csv['filename'].tolist()\n",
    "label = data_csv['label'].tolist()"
   ]
  },
  {
   "cell_type": "code",
   "execution_count": 2,
   "metadata": {},
   "outputs": [],
   "source": [
    "def draw_hist(data, title):\n",
    "    plt.style.use(u'ggplot')\n",
    "    fig = pd.DataFrame(data, index=[0]).transpose()[0].plot(kind='barh')\n",
    "    fig = fig.get_figure()\n",
    "    fig.tight_layout()\n",
    "    plt.title(title)\n",
    "    plt.show()"
   ]
  },
  {
   "cell_type": "code",
   "execution_count": 5,
   "metadata": {},
   "outputs": [
    {
     "data": {
      "image/png": "[encoded data removed]",
      "text/plain": [
       "<Figure size 432x288 with 1 Axes>"
      ]
     },
     "metadata": {},
     "output_type": "display_data"
    }
   ],
   "source": [
    "list_length_train = list()\n",
    "for str in label:\n",
    "    list_length_train.append(len(str))\n",
    "list_length_train = pd.Series(list_length_train).value_counts().to_dict()\n",
    "draw_hist(list_length_train, 'label length')"
   ]
  },
  {
   "cell_type": "code",
   "execution_count": 7,
   "metadata": {},
   "outputs": [
    {
     "data": {
      "image/png": "[encoded data removed]",
      "text/plain": [
       "<Figure size 432x288 with 1 Axes>"
      ]
     },
     "metadata": {},
     "output_type": "display_data"
    }
   ],
   "source": [
    "from collections import defaultdict\n",
    "sum_character_train = defaultdict(int)\n",
    "sum_character_train['(']\n",
    "sum_character_train[')']\n",
    "sum_character_train['+']\n",
    "sum_character_train['-']\n",
    "sum_character_train['*']\n",
    "sum_character_train['=']\n",
    "sum_character_train['0']\n",
    "sum_character_train['1']\n",
    "sum_character_train['2']\n",
    "sum_character_train['3']\n",
    "sum_character_train['4']\n",
    "sum_character_train['5']\n",
    "sum_character_train['6']\n",
    "sum_character_train['7']\n",
    "sum_character_train['8']\n",
    "sum_character_train['9']\n",
    "for str in label:\n",
    "    for character in str:\n",
    "        sum_character_train[character] += 1\n",
    "sum_character_train = dict(sum_character_train)\n",
    "draw_hist(sum_character_train,'data character distribution')"
   ]
  },
  {
   "cell_type": "markdown",
   "metadata": {},
   "source": [
    "### 评估标准"
   ]
  },
  {
   "cell_type": "markdown",
   "metadata": {},
   "source": [
    "学生提出了一个用于量化基准模型和解决方案的评估标准。这个评估标准对于问题本身、数据集以及解决方案来说都是合适的。"
   ]
  },
  {
   "cell_type": "markdown",
   "metadata": {},
   "source": [
    "准确率。计算识别结果的准确率。"
   ]
  },
  {
   "cell_type": "markdown",
   "metadata": {},
   "source": [
    "### 基准模型"
   ]
  },
  {
   "cell_type": "markdown",
   "metadata": {},
   "source": [
    "学生提供了相关问题领域解决方案的基准模型。理想情况下，学生的基准模型包括已有方法的描述，该领域内已知的信息，使得学生的解决方案可以和该基准模型作客观的对比。该基准模型定义清晰且可衡量。"
   ]
  },
  {
   "cell_type": "markdown",
   "metadata": {},
   "source": [
    "tesseract结果对比。\n",
    "\n",
    "论文结果统计，todo。"
   ]
  },
  {
   "cell_type": "code",
   "execution_count": 4,
   "metadata": {},
   "outputs": [
    {
     "name": "stdout",
     "output_type": "stream",
     "text": [
      "851415.35 \"I \"\n"
     ]
    }
   ],
   "source": [
    "from PIL import Image\n",
    "import pytesseract\n",
    " \n",
    "text = pytesseract.image_to_string(Image.open(r'G:\\my_code\\python\\mathematical_expression_recognition\\Mathematical_Expression_Recognition_train\\train\\137.jpg'))\n",
    "print(text)"
   ]
  },
  {
   "cell_type": "markdown",
   "metadata": {},
   "source": [
    "### 项目设计"
   ]
  },
  {
   "cell_type": "markdown",
   "metadata": {},
   "source": [
    "学生总结了一个针对问题解决方案的实施理论流程。探讨了计划采取的策略，对数据需要进行哪些分析，考虑哪些算法。这些流程和探讨符合该问题的特点。我们鼓励把数据简单可视化，加入一些对解释有帮助的伪代码及图表。"
   ]
  },
  {
   "cell_type": "markdown",
   "metadata": {},
   "source": [
    "1.数据可视化探索\n",
    "\n",
    "2.预处理\n",
    "\n",
    "3.识别"
   ]
  }
 ],
 "metadata": {
  "kernelspec": {
   "display_name": "chinese_ocr_gpu",
   "language": "python",
   "name": "chinese_ocr_gpu"
  },
  "language_info": {
   "codemirror_mode": {
    "name": "ipython",
    "version": 3
   },
   "file_extension": ".py",
   "mimetype": "text/x-python",
   "name": "python",
   "nbconvert_exporter": "python",
   "pygments_lexer": "ipython3",
   "version": "3.6.8"
  }
 },
 "nbformat": 4,
 "nbformat_minor": 2
}
